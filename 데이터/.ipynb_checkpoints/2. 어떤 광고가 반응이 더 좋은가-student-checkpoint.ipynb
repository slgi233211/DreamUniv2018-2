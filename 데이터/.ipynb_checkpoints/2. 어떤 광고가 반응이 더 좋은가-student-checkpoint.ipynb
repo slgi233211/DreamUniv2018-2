{
 "cells": [
  {
   "cell_type": "markdown",
   "metadata": {},
   "source": [
    "# 어떤 광고가 반응이 더 좋은가?\n",
    "#### 게임 개빌회사 A는 지난 문제를 현명하게 해결하고 안정적인 영업을 하고 있으나, 매월 실시하고 있는 게임아이템 판매 이벤트에 대해 고객들의 구매율이 상대적으로 낮음을 확인하였음.\n",
    "#### 우리 회사는 맨날 무슨 일이 터지나?\n",
    "![](2-1.jpg)"
   ]
  },
  {
   "cell_type": "markdown",
   "metadata": {},
   "source": [
    "#### 유력 가설: 이벤트 공지 및 홍보 활동에 문제가 있다. 구체적으로 우리 게임에 대한 광고 클릭률이 항상 낮다고 한다.\n",
    "#### 해결책: 다양한 광고를 조사하고 비교해서 우리 게임 광고 클릭"
   ]
  },
  {
   "cell_type": "markdown",
   "metadata": {},
   "source": [
    "## 1. Loading data"
   ]
  },
  {
   "cell_type": "markdown",
   "metadata": {},
   "source": [
    "#### 1) 필요한 라이브러리들을 호출"
   ]
  },
  {
   "cell_type": "code",
   "execution_count": 1,
   "metadata": {},
   "outputs": [],
   "source": [
    "#데이터 분석에 필요한 패키지들을 파이썬으로 호출\n",
    "import pandas as pd\n",
    "import os\n",
    "import numpy as np\n",
    "import matplotlib.pyplot as plt\n",
    "from scipy.stats import chisquare\n",
    "%matplotlib inline"
   ]
  },
  {
   "cell_type": "markdown",
   "metadata": {},
   "source": [
    "#### 2) 각 변수별로 데이터 할당 "
   ]
  },
  {
   "cell_type": "code",
   "execution_count": 2,
   "metadata": {},
   "outputs": [],
   "source": [
    "imp = pd.read_csv('ab_test_imp.csv')\n",
    "goal = pd.read_csv('ab_test_goal.csv')"
   ]
  },
  {
   "cell_type": "markdown",
   "metadata": {},
   "source": [
    "![](2-2.jpg)"
   ]
  },
  {
   "cell_type": "markdown",
   "metadata": {},
   "source": [
    "#### 3) 호출된 데이터 정보 확인"
   ]
  },
  {
   "cell_type": "code",
   "execution_count": 3,
   "metadata": {},
   "outputs": [
    {
     "data": {
      "text/html": [
       "<div>\n",
       "<style scoped>\n",
       "    .dataframe tbody tr th:only-of-type {\n",
       "        vertical-align: middle;\n",
       "    }\n",
       "\n",
       "    .dataframe tbody tr th {\n",
       "        vertical-align: top;\n",
       "    }\n",
       "\n",
       "    .dataframe thead th {\n",
       "        text-align: right;\n",
       "    }\n",
       "</style>\n",
       "<table border=\"1\" class=\"dataframe\">\n",
       "  <thead>\n",
       "    <tr style=\"text-align: right;\">\n",
       "      <th></th>\n",
       "      <th>log_date</th>\n",
       "      <th>app_name</th>\n",
       "      <th>test_name</th>\n",
       "      <th>test_case</th>\n",
       "      <th>user_id</th>\n",
       "      <th>transaction_id</th>\n",
       "    </tr>\n",
       "  </thead>\n",
       "  <tbody>\n",
       "    <tr>\n",
       "      <th>0</th>\n",
       "      <td>2017-10-01</td>\n",
       "      <td>game-01</td>\n",
       "      <td>sales_test</td>\n",
       "      <td>B</td>\n",
       "      <td>36703</td>\n",
       "      <td>25622</td>\n",
       "    </tr>\n",
       "    <tr>\n",
       "      <th>1</th>\n",
       "      <td>2017-10-01</td>\n",
       "      <td>game-01</td>\n",
       "      <td>sales_test</td>\n",
       "      <td>A</td>\n",
       "      <td>44339</td>\n",
       "      <td>25623</td>\n",
       "    </tr>\n",
       "    <tr>\n",
       "      <th>2</th>\n",
       "      <td>2017-10-01</td>\n",
       "      <td>game-01</td>\n",
       "      <td>sales_test</td>\n",
       "      <td>B</td>\n",
       "      <td>32087</td>\n",
       "      <td>25624</td>\n",
       "    </tr>\n",
       "    <tr>\n",
       "      <th>3</th>\n",
       "      <td>2017-10-01</td>\n",
       "      <td>game-01</td>\n",
       "      <td>sales_test</td>\n",
       "      <td>B</td>\n",
       "      <td>10160</td>\n",
       "      <td>25625</td>\n",
       "    </tr>\n",
       "    <tr>\n",
       "      <th>4</th>\n",
       "      <td>2017-10-01</td>\n",
       "      <td>game-01</td>\n",
       "      <td>sales_test</td>\n",
       "      <td>B</td>\n",
       "      <td>46113</td>\n",
       "      <td>25626</td>\n",
       "    </tr>\n",
       "  </tbody>\n",
       "</table>\n",
       "</div>"
      ],
      "text/plain": [
       "     log_date app_name   test_name test_case  user_id  transaction_id\n",
       "0  2017-10-01  game-01  sales_test         B    36703           25622\n",
       "1  2017-10-01  game-01  sales_test         A    44339           25623\n",
       "2  2017-10-01  game-01  sales_test         B    32087           25624\n",
       "3  2017-10-01  game-01  sales_test         B    10160           25625\n",
       "4  2017-10-01  game-01  sales_test         B    46113           25626"
      ]
     },
     "execution_count": 3,
     "metadata": {},
     "output_type": "execute_result"
    }
   ],
   "source": [
    "imp.head()"
   ]
  },
  {
   "cell_type": "code",
   "execution_count": 4,
   "metadata": {},
   "outputs": [
    {
     "data": {
      "text/html": [
       "<div>\n",
       "<style scoped>\n",
       "    .dataframe tbody tr th:only-of-type {\n",
       "        vertical-align: middle;\n",
       "    }\n",
       "\n",
       "    .dataframe tbody tr th {\n",
       "        vertical-align: top;\n",
       "    }\n",
       "\n",
       "    .dataframe thead th {\n",
       "        text-align: right;\n",
       "    }\n",
       "</style>\n",
       "<table border=\"1\" class=\"dataframe\">\n",
       "  <thead>\n",
       "    <tr style=\"text-align: right;\">\n",
       "      <th></th>\n",
       "      <th>log_date</th>\n",
       "      <th>app_name</th>\n",
       "      <th>test_name</th>\n",
       "      <th>test_case</th>\n",
       "      <th>user_id</th>\n",
       "      <th>transaction_id</th>\n",
       "    </tr>\n",
       "  </thead>\n",
       "  <tbody>\n",
       "    <tr>\n",
       "      <th>0</th>\n",
       "      <td>2017-10-01</td>\n",
       "      <td>game-01</td>\n",
       "      <td>sales_test</td>\n",
       "      <td>B</td>\n",
       "      <td>15021</td>\n",
       "      <td>25638</td>\n",
       "    </tr>\n",
       "    <tr>\n",
       "      <th>1</th>\n",
       "      <td>2017-10-01</td>\n",
       "      <td>game-01</td>\n",
       "      <td>sales_test</td>\n",
       "      <td>B</td>\n",
       "      <td>351</td>\n",
       "      <td>25704</td>\n",
       "    </tr>\n",
       "    <tr>\n",
       "      <th>2</th>\n",
       "      <td>2017-10-01</td>\n",
       "      <td>game-01</td>\n",
       "      <td>sales_test</td>\n",
       "      <td>B</td>\n",
       "      <td>8276</td>\n",
       "      <td>25739</td>\n",
       "    </tr>\n",
       "    <tr>\n",
       "      <th>3</th>\n",
       "      <td>2017-10-01</td>\n",
       "      <td>game-01</td>\n",
       "      <td>sales_test</td>\n",
       "      <td>B</td>\n",
       "      <td>1230</td>\n",
       "      <td>25742</td>\n",
       "    </tr>\n",
       "    <tr>\n",
       "      <th>4</th>\n",
       "      <td>2017-10-01</td>\n",
       "      <td>game-01</td>\n",
       "      <td>sales_test</td>\n",
       "      <td>B</td>\n",
       "      <td>17471</td>\n",
       "      <td>25743</td>\n",
       "    </tr>\n",
       "  </tbody>\n",
       "</table>\n",
       "</div>"
      ],
      "text/plain": [
       "     log_date app_name   test_name test_case  user_id  transaction_id\n",
       "0  2017-10-01  game-01  sales_test         B    15021           25638\n",
       "1  2017-10-01  game-01  sales_test         B      351           25704\n",
       "2  2017-10-01  game-01  sales_test         B     8276           25739\n",
       "3  2017-10-01  game-01  sales_test         B     1230           25742\n",
       "4  2017-10-01  game-01  sales_test         B    17471           25743"
      ]
     },
     "execution_count": 4,
     "metadata": {},
     "output_type": "execute_result"
    }
   ],
   "source": [
    "goal.head()"
   ]
  },
  {
   "cell_type": "markdown",
   "metadata": {},
   "source": [
    "# 2. Data cleaning"
   ]
  },
  {
   "cell_type": "markdown",
   "metadata": {},
   "source": [
    "#### 1) 각 데이터들을 결합"
   ]
  },
  {
   "cell_type": "code",
   "execution_count": 8,
   "metadata": {},
   "outputs": [],
   "source": [
    "#두 데이터 결합하기 \n",
    "ImpGoal = imp.merge(goal, on =[\"transaction_id\"],how=\"outer\")"
   ]
  },
  {
   "cell_type": "markdown",
   "metadata": {},
   "source": [
    "#### 2) 일자별 정렬을 위한 날짜 처리"
   ]
  },
  {
   "cell_type": "code",
   "execution_count": 13,
   "metadata": {},
   "outputs": [
    {
     "data": {
      "text/html": [
       "<div>\n",
       "<style scoped>\n",
       "    .dataframe tbody tr th:only-of-type {\n",
       "        vertical-align: middle;\n",
       "    }\n",
       "\n",
       "    .dataframe tbody tr th {\n",
       "        vertical-align: top;\n",
       "    }\n",
       "\n",
       "    .dataframe thead th {\n",
       "        text-align: right;\n",
       "    }\n",
       "</style>\n",
       "<table border=\"1\" class=\"dataframe\">\n",
       "  <thead>\n",
       "    <tr style=\"text-align: right;\">\n",
       "      <th></th>\n",
       "      <th>log_date_x</th>\n",
       "      <th>app_name_x</th>\n",
       "      <th>test_name_x</th>\n",
       "      <th>test_case_x</th>\n",
       "      <th>user_id_x</th>\n",
       "      <th>transaction_id</th>\n",
       "      <th>log_date_y</th>\n",
       "      <th>app_name_y</th>\n",
       "      <th>test_name_y</th>\n",
       "      <th>test_case_y</th>\n",
       "      <th>user_id_y</th>\n",
       "    </tr>\n",
       "  </thead>\n",
       "  <tbody>\n",
       "    <tr>\n",
       "      <th>87917</th>\n",
       "      <td>2017-10-31</td>\n",
       "      <td>game-01</td>\n",
       "      <td>sales_test</td>\n",
       "      <td>A</td>\n",
       "      <td>55631.0</td>\n",
       "      <td>85309</td>\n",
       "      <td>NaN</td>\n",
       "      <td>NaN</td>\n",
       "      <td>NaN</td>\n",
       "      <td>NaN</td>\n",
       "      <td>NaN</td>\n",
       "    </tr>\n",
       "    <tr>\n",
       "      <th>87918</th>\n",
       "      <td>2017-10-31</td>\n",
       "      <td>game-01</td>\n",
       "      <td>sales_test</td>\n",
       "      <td>B</td>\n",
       "      <td>21373.0</td>\n",
       "      <td>85310</td>\n",
       "      <td>NaN</td>\n",
       "      <td>NaN</td>\n",
       "      <td>NaN</td>\n",
       "      <td>NaN</td>\n",
       "      <td>NaN</td>\n",
       "    </tr>\n",
       "    <tr>\n",
       "      <th>87919</th>\n",
       "      <td>2017-10-31</td>\n",
       "      <td>game-01</td>\n",
       "      <td>sales_test</td>\n",
       "      <td>A</td>\n",
       "      <td>55838.0</td>\n",
       "      <td>85311</td>\n",
       "      <td>NaN</td>\n",
       "      <td>NaN</td>\n",
       "      <td>NaN</td>\n",
       "      <td>NaN</td>\n",
       "      <td>NaN</td>\n",
       "    </tr>\n",
       "    <tr>\n",
       "      <th>87920</th>\n",
       "      <td>2017-10-31</td>\n",
       "      <td>game-01</td>\n",
       "      <td>sales_test</td>\n",
       "      <td>B</td>\n",
       "      <td>50754.0</td>\n",
       "      <td>85312</td>\n",
       "      <td>NaN</td>\n",
       "      <td>NaN</td>\n",
       "      <td>NaN</td>\n",
       "      <td>NaN</td>\n",
       "      <td>NaN</td>\n",
       "    </tr>\n",
       "    <tr>\n",
       "      <th>87921</th>\n",
       "      <td>2017-10-31</td>\n",
       "      <td>game-01</td>\n",
       "      <td>sales_test</td>\n",
       "      <td>B</td>\n",
       "      <td>52080.0</td>\n",
       "      <td>85313</td>\n",
       "      <td>2017-10-31</td>\n",
       "      <td>game-01</td>\n",
       "      <td>sales_test</td>\n",
       "      <td>B</td>\n",
       "      <td>52080.0</td>\n",
       "    </tr>\n",
       "    <tr>\n",
       "      <th>87922</th>\n",
       "      <td>2017-10-31</td>\n",
       "      <td>game-01</td>\n",
       "      <td>sales_test</td>\n",
       "      <td>B</td>\n",
       "      <td>57610.0</td>\n",
       "      <td>85314</td>\n",
       "      <td>2017-10-31</td>\n",
       "      <td>game-01</td>\n",
       "      <td>sales_test</td>\n",
       "      <td>B</td>\n",
       "      <td>57610.0</td>\n",
       "    </tr>\n",
       "    <tr>\n",
       "      <th>87923</th>\n",
       "      <td>2017-10-31</td>\n",
       "      <td>game-01</td>\n",
       "      <td>sales_test</td>\n",
       "      <td>B</td>\n",
       "      <td>56445.0</td>\n",
       "      <td>85315</td>\n",
       "      <td>NaN</td>\n",
       "      <td>NaN</td>\n",
       "      <td>NaN</td>\n",
       "      <td>NaN</td>\n",
       "      <td>NaN</td>\n",
       "    </tr>\n",
       "    <tr>\n",
       "      <th>87924</th>\n",
       "      <td>NaN</td>\n",
       "      <td>NaN</td>\n",
       "      <td>NaN</td>\n",
       "      <td>NaN</td>\n",
       "      <td>NaN</td>\n",
       "      <td>12013</td>\n",
       "      <td>2017-10-16</td>\n",
       "      <td>game-01</td>\n",
       "      <td>sales_test</td>\n",
       "      <td>B</td>\n",
       "      <td>53400.0</td>\n",
       "    </tr>\n",
       "    <tr>\n",
       "      <th>87925</th>\n",
       "      <td>NaN</td>\n",
       "      <td>NaN</td>\n",
       "      <td>NaN</td>\n",
       "      <td>NaN</td>\n",
       "      <td>NaN</td>\n",
       "      <td>72013</td>\n",
       "      <td>2017-10-19</td>\n",
       "      <td>game-01</td>\n",
       "      <td>sales_test</td>\n",
       "      <td>B</td>\n",
       "      <td>52316.0</td>\n",
       "    </tr>\n",
       "    <tr>\n",
       "      <th>87926</th>\n",
       "      <td>NaN</td>\n",
       "      <td>NaN</td>\n",
       "      <td>NaN</td>\n",
       "      <td>NaN</td>\n",
       "      <td>NaN</td>\n",
       "      <td>20136</td>\n",
       "      <td>2017-10-21</td>\n",
       "      <td>game-01</td>\n",
       "      <td>sales_test</td>\n",
       "      <td>B</td>\n",
       "      <td>52901.0</td>\n",
       "    </tr>\n",
       "  </tbody>\n",
       "</table>\n",
       "</div>"
      ],
      "text/plain": [
       "       log_date_x app_name_x test_name_x test_case_x  user_id_x  \\\n",
       "87917  2017-10-31    game-01  sales_test           A    55631.0   \n",
       "87918  2017-10-31    game-01  sales_test           B    21373.0   \n",
       "87919  2017-10-31    game-01  sales_test           A    55838.0   \n",
       "87920  2017-10-31    game-01  sales_test           B    50754.0   \n",
       "87921  2017-10-31    game-01  sales_test           B    52080.0   \n",
       "87922  2017-10-31    game-01  sales_test           B    57610.0   \n",
       "87923  2017-10-31    game-01  sales_test           B    56445.0   \n",
       "87924         NaN        NaN         NaN         NaN        NaN   \n",
       "87925         NaN        NaN         NaN         NaN        NaN   \n",
       "87926         NaN        NaN         NaN         NaN        NaN   \n",
       "\n",
       "       transaction_id  log_date_y app_name_y test_name_y test_case_y  \\\n",
       "87917           85309         NaN        NaN         NaN         NaN   \n",
       "87918           85310         NaN        NaN         NaN         NaN   \n",
       "87919           85311         NaN        NaN         NaN         NaN   \n",
       "87920           85312         NaN        NaN         NaN         NaN   \n",
       "87921           85313  2017-10-31    game-01  sales_test           B   \n",
       "87922           85314  2017-10-31    game-01  sales_test           B   \n",
       "87923           85315         NaN        NaN         NaN         NaN   \n",
       "87924           12013  2017-10-16    game-01  sales_test           B   \n",
       "87925           72013  2017-10-19    game-01  sales_test           B   \n",
       "87926           20136  2017-10-21    game-01  sales_test           B   \n",
       "\n",
       "       user_id_y  \n",
       "87917        NaN  \n",
       "87918        NaN  \n",
       "87919        NaN  \n",
       "87920        NaN  \n",
       "87921    52080.0  \n",
       "87922    57610.0  \n",
       "87923        NaN  \n",
       "87924    53400.0  \n",
       "87925    52316.0  \n",
       "87926    52901.0  "
      ]
     },
     "execution_count": 13,
     "metadata": {},
     "output_type": "execute_result"
    }
   ],
   "source": [
    "ImpGoal.tail(10)"
   ]
  },
  {
   "cell_type": "code",
   "execution_count": 11,
   "metadata": {},
   "outputs": [],
   "source": [
    "# ImpGoal 데이터프레임 내 \"log_date_x\"시리즈를 datetime 유형으로 변경\n",
    "ImpGoal['log_date_x']=ImpGoal['log_date_x'].apply(lambda x:pd.to_datetime(str(x)))"
   ]
  },
  {
   "cell_type": "markdown",
   "metadata": {},
   "source": [
    "#### 3) 광고별 클릭률 지표 설정"
   ]
  },
  {
   "cell_type": "code",
   "execution_count": 14,
   "metadata": {},
   "outputs": [],
   "source": [
    "#\"is.goal\" 시리즈를 만들고 \"user_id_y\"값이 \"true\"이면 0, 그렇지 않으면 1으로 표시\n",
    "ImpGoal['is_goal']=np.where(pd.isnull(ImpGoal['user_id_y'])==True,0,1)"
   ]
  },
  {
   "cell_type": "code",
   "execution_count": 15,
   "metadata": {},
   "outputs": [
    {
     "data": {
      "text/html": [
       "<div>\n",
       "<style scoped>\n",
       "    .dataframe tbody tr th:only-of-type {\n",
       "        vertical-align: middle;\n",
       "    }\n",
       "\n",
       "    .dataframe tbody tr th {\n",
       "        vertical-align: top;\n",
       "    }\n",
       "\n",
       "    .dataframe thead th {\n",
       "        text-align: right;\n",
       "    }\n",
       "</style>\n",
       "<table border=\"1\" class=\"dataframe\">\n",
       "  <thead>\n",
       "    <tr style=\"text-align: right;\">\n",
       "      <th></th>\n",
       "      <th>log_date_x</th>\n",
       "      <th>app_name_x</th>\n",
       "      <th>test_name_x</th>\n",
       "      <th>test_case_x</th>\n",
       "      <th>user_id_x</th>\n",
       "      <th>transaction_id</th>\n",
       "      <th>log_date_y</th>\n",
       "      <th>app_name_y</th>\n",
       "      <th>test_name_y</th>\n",
       "      <th>test_case_y</th>\n",
       "      <th>user_id_y</th>\n",
       "      <th>is_goal</th>\n",
       "    </tr>\n",
       "  </thead>\n",
       "  <tbody>\n",
       "    <tr>\n",
       "      <th>0</th>\n",
       "      <td>2017-10-01</td>\n",
       "      <td>game-01</td>\n",
       "      <td>sales_test</td>\n",
       "      <td>B</td>\n",
       "      <td>36703.0</td>\n",
       "      <td>25622</td>\n",
       "      <td>NaN</td>\n",
       "      <td>NaN</td>\n",
       "      <td>NaN</td>\n",
       "      <td>NaN</td>\n",
       "      <td>NaN</td>\n",
       "      <td>0</td>\n",
       "    </tr>\n",
       "    <tr>\n",
       "      <th>1</th>\n",
       "      <td>2017-10-01</td>\n",
       "      <td>game-01</td>\n",
       "      <td>sales_test</td>\n",
       "      <td>A</td>\n",
       "      <td>44339.0</td>\n",
       "      <td>25623</td>\n",
       "      <td>NaN</td>\n",
       "      <td>NaN</td>\n",
       "      <td>NaN</td>\n",
       "      <td>NaN</td>\n",
       "      <td>NaN</td>\n",
       "      <td>0</td>\n",
       "    </tr>\n",
       "    <tr>\n",
       "      <th>2</th>\n",
       "      <td>2017-10-01</td>\n",
       "      <td>game-01</td>\n",
       "      <td>sales_test</td>\n",
       "      <td>B</td>\n",
       "      <td>32087.0</td>\n",
       "      <td>25624</td>\n",
       "      <td>NaN</td>\n",
       "      <td>NaN</td>\n",
       "      <td>NaN</td>\n",
       "      <td>NaN</td>\n",
       "      <td>NaN</td>\n",
       "      <td>0</td>\n",
       "    </tr>\n",
       "    <tr>\n",
       "      <th>3</th>\n",
       "      <td>2017-10-01</td>\n",
       "      <td>game-01</td>\n",
       "      <td>sales_test</td>\n",
       "      <td>B</td>\n",
       "      <td>10160.0</td>\n",
       "      <td>25625</td>\n",
       "      <td>NaN</td>\n",
       "      <td>NaN</td>\n",
       "      <td>NaN</td>\n",
       "      <td>NaN</td>\n",
       "      <td>NaN</td>\n",
       "      <td>0</td>\n",
       "    </tr>\n",
       "    <tr>\n",
       "      <th>4</th>\n",
       "      <td>2017-10-01</td>\n",
       "      <td>game-01</td>\n",
       "      <td>sales_test</td>\n",
       "      <td>B</td>\n",
       "      <td>46113.0</td>\n",
       "      <td>25626</td>\n",
       "      <td>NaN</td>\n",
       "      <td>NaN</td>\n",
       "      <td>NaN</td>\n",
       "      <td>NaN</td>\n",
       "      <td>NaN</td>\n",
       "      <td>0</td>\n",
       "    </tr>\n",
       "  </tbody>\n",
       "</table>\n",
       "</div>"
      ],
      "text/plain": [
       "   log_date_x app_name_x test_name_x test_case_x  user_id_x  transaction_id  \\\n",
       "0  2017-10-01    game-01  sales_test           B    36703.0           25622   \n",
       "1  2017-10-01    game-01  sales_test           A    44339.0           25623   \n",
       "2  2017-10-01    game-01  sales_test           B    32087.0           25624   \n",
       "3  2017-10-01    game-01  sales_test           B    10160.0           25625   \n",
       "4  2017-10-01    game-01  sales_test           B    46113.0           25626   \n",
       "\n",
       "  log_date_y app_name_y test_name_y test_case_y  user_id_y  is_goal  \n",
       "0        NaN        NaN         NaN         NaN        NaN        0  \n",
       "1        NaN        NaN         NaN         NaN        NaN        0  \n",
       "2        NaN        NaN         NaN         NaN        NaN        0  \n",
       "3        NaN        NaN         NaN         NaN        NaN        0  \n",
       "4        NaN        NaN         NaN         NaN        NaN        0  "
      ]
     },
     "execution_count": 15,
     "metadata": {},
     "output_type": "execute_result"
    }
   ],
   "source": [
    "ImpGoal.head()"
   ]
  },
  {
   "cell_type": "markdown",
   "metadata": {},
   "source": [
    "# 3. Data analysis"
   ]
  },
  {
   "cell_type": "markdown",
   "metadata": {},
   "source": [
    "#### 1) 광고별 클릭률 확인"
   ]
  },
  {
   "cell_type": "code",
   "execution_count": 16,
   "metadata": {},
   "outputs": [
    {
     "data": {
      "text/plain": [
       "test_case_x\n",
       "A    0.080256\n",
       "B    0.115392\n",
       "Name: is_goal, dtype: float64"
      ]
     },
     "execution_count": 16,
     "metadata": {},
     "output_type": "execute_result"
    }
   ],
   "source": [
    "# 광고A와 광고B의 각 클릭률 비교\n",
    "ImpGoal['is_goal'].groupby(ImpGoal['test_case_x']).mean()"
   ]
  },
  {
   "cell_type": "markdown",
   "metadata": {},
   "source": [
    "#### 2) 각 광고별 클릭률 트렌드 확인"
   ]
  },
  {
   "cell_type": "code",
   "execution_count": 26,
   "metadata": {},
   "outputs": [
    {
     "ename": "SyntaxError",
     "evalue": "invalid syntax (<ipython-input-26-6e2d537ff4c0>, line 2)",
     "output_type": "error",
     "traceback": [
      "\u001b[1;36m  File \u001b[1;32m\"<ipython-input-26-6e2d537ff4c0>\"\u001b[1;36m, line \u001b[1;32m2\u001b[0m\n\u001b[1;33m    data=ImpGoal.groupby(['log_date_x','test_case_x']).['is_goal'].mean()\u001b[0m\n\u001b[1;37m                                                       ^\u001b[0m\n\u001b[1;31mSyntaxError\u001b[0m\u001b[1;31m:\u001b[0m invalid syntax\n"
     ]
    }
   ],
   "source": [
    "#\"log_date_x\" 기준에 따라 각 광고별 클릭률을 정렬\n",
    "data=ImpGoal.groupby(['log_date_x','test_case_x']).['is_goal'].mean()"
   ]
  },
  {
   "cell_type": "markdown",
   "metadata": {},
   "source": [
    "# 4. Data Visualization"
   ]
  },
  {
   "cell_type": "code",
   "execution_count": null,
   "metadata": {},
   "outputs": [],
   "source": [
    "data.head(20)"
   ]
  },
  {
   "cell_type": "markdown",
   "metadata": {},
   "source": [
    "#### 1) 각 광고별 클릭률 트렌드 시각화"
   ]
  },
  {
   "cell_type": "code",
   "execution_count": 27,
   "metadata": {},
   "outputs": [],
   "source": [
    "# unstack()함수를 이용해 완전한 데이터 정규화 수행\n"
   ]
  },
  {
   "cell_type": "code",
   "execution_count": null,
   "metadata": {},
   "outputs": [],
   "source": []
  },
  {
   "cell_type": "code",
   "execution_count": null,
   "metadata": {},
   "outputs": [],
   "source": [
    "#완성된 데이터를 이용해 시각화 수행\n",
    "data.plot.line(figsize=(15,7),style='--',maker='0')"
   ]
  }
 ],
 "metadata": {
  "kernelspec": {
   "display_name": "Python 3",
   "language": "python",
   "name": "python3"
  },
  "language_info": {
   "codemirror_mode": {
    "name": "ipython",
    "version": 3
   },
   "file_extension": ".py",
   "mimetype": "text/x-python",
   "name": "python",
   "nbconvert_exporter": "python",
   "pygments_lexer": "ipython3",
   "version": "3.6.4"
  }
 },
 "nbformat": 4,
 "nbformat_minor": 2
}
